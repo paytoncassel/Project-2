{
 "cells": [
  {
   "cell_type": "markdown",
   "metadata": {},
   "source": [
    "# RV and Transit for HD209458 b continued\n",
    "## Using RV and transit data to estimate mass and radius of planet and calculating uncertainty"
   ]
  },
  {
   "cell_type": "markdown",
   "metadata": {},
   "source": [
    "### Import necessary packages and data tables for RV and transit"
   ]
  },
  {
   "cell_type": "code",
   "execution_count": 1,
   "metadata": {},
   "outputs": [],
   "source": [
    "import matplotlib.pyplot as plt\n",
    "import numpy as np\n",
    "import astropy.io.ascii\n",
    "plt.ion()\n",
    "%matplotlib inline"
   ]
  },
  {
   "cell_type": "code",
   "execution_count": 2,
   "metadata": {},
   "outputs": [],
   "source": [
    "#tr_data = astropy.io.ascii.read(\"UID_0108859_PLC_003.tbl.txt\", data_start=131, delimiter='|')\n",
    "#data for HD209458 b transit data \n",
    "#data from Exoarchive Optical(Most) Rowe et al 2006\n",
    "#data starts at line 130"
   ]
  },
  {
   "cell_type": "code",
   "execution_count": 3,
   "metadata": {},
   "outputs": [],
   "source": [
    "rv_data = astropy.io.ascii.read(\"UID_0108859_RVC_002.tbl.txt\")\n",
    "#laughlin et al 2006, used 10m Keck 1 HIRES\n",
    "#rv data for HD209458 b"
   ]
  },
  {
   "cell_type": "code",
   "execution_count": 4,
   "metadata": {},
   "outputs": [],
   "source": [
    "lc_data = astropy.io.ascii.read(\"lightcurve.txt\")\n",
    "t = rv_data[\"HJD\"].data"
   ]
  },
  {
   "cell_type": "code",
   "execution_count": 5,
   "metadata": {},
   "outputs": [],
   "source": [
    "rv_data2 = astropy.io.ascii.read(\"24Sextantisc.txt\")"
   ]
  },
  {
   "cell_type": "markdown",
   "metadata": {},
   "source": [
    "## Calculate Mass of HD 209458 b from RV data"
   ]
  },
  {
   "cell_type": "code",
   "execution_count": 6,
   "metadata": {},
   "outputs": [
    {
     "name": "stdout",
     "output_type": "stream",
     "text": [
      "The minimum mass of HD 209458 b is 0.700648045897449 Jupiter masses\n"
     ]
    }
   ],
   "source": [
    "#we need mass_star, rv_semi_amplitude, eccentricity, semi_maj_axis, \n",
    "#and assume circular orbit to find minmass_planet in terms of mass_star?\n",
    "#mass_star = 1.06917519587500 solar masses\n",
    "#rv_semi_amplitude = max RV-min RV/2 = 91.9-(-86.9)/2 = 89.4 m/s\n",
    "#semi_maj_axis from rosenthal et al 2021 = 0.04634+0.00069-0.00070 AU = 6932365328 meters\n",
    "#period = 3.52474859 days (not needed)\n",
    "#eccentricity = 0.01\n",
    "\n",
    "semimaj_axis_AU = 0.04634 #semi major axis in AU\n",
    "K_ms = 89.4 #rv semi amplitude in m/s\n",
    "m_star_sol= 1.06917519587500 #mass of star in solar masses\n",
    "ecc=0.01 #eccentricity\n",
    "\n",
    "#semiamplitude eqn\n",
    "#K~28.4ms^-1(a/AU)^(-1/2)(msini/Mj)(Mstar/Msun)^(-1/2)(1-e^2)^(-1/2)\n",
    "#solve for msini\n",
    "#msini = K*(1/28.4ms^-1)(AU/a)^(-1/2)(Msun/Mstar)^(-1/2)(1/(1-e^2))^(-1/2) \n",
    "#^minimum mass in jupiter masses\n",
    "\n",
    "min_mass = K_ms*(1/28.4)*(1/semimaj_axis_AU)**(-1/2)*(1/m_star_sol)**(-1/2)*(1/(1-(ecc)**2))**(-1/2)\n",
    "\n",
    "print('The minimum mass of HD 209458 b is', min_mass, 'Jupiter masses')\n"
   ]
  },
  {
   "cell_type": "markdown",
   "metadata": {},
   "source": [
    "## Calculate the Radius from the transit data"
   ]
  },
  {
   "cell_type": "code",
   "execution_count": 7,
   "metadata": {
    "scrolled": true
   },
   "outputs": [],
   "source": [
    "#plt.plot(lc_data['HJD'].data, lc_data['Relative_Flux'].data, 'ok')"
   ]
  },
  {
   "cell_type": "code",
   "execution_count": 8,
   "metadata": {},
   "outputs": [
    {
     "name": "stdout",
     "output_type": "stream",
     "text": [
      "The radius of the planet is 1.4289905521395916 Rj\n"
     ]
    }
   ],
   "source": [
    "#radius using light curve data\n",
    "td = .0150 #(based on light curve data)\n",
    "Rs = 11.667659 #Rj\n",
    "Rp = td**(1/2) * Rs\n",
    "\n",
    "print('The radius of the planet is', Rp, 'Rj')"
   ]
  },
  {
   "cell_type": "code",
   "execution_count": 9,
   "metadata": {},
   "outputs": [
    {
     "name": "stdout",
     "output_type": "stream",
     "text": [
      "The max radius of HD 209458 b is 18.258947607325776 Rj\n",
      "The minimum radius of HD 209458 b is 8.15465553263589 Rj\n"
     ]
    }
   ],
   "source": [
    "Rj=6.9911e+7 #radius of jupiter in meters https://solarsystem.nasa.gov/planets/jupiter/by-the-numbers/\n",
    "\n",
    "#define maxes and min for each value\n",
    "tdmax=(3.072+0.003)/23.933 #max duration in days\n",
    "pdmax=3.52476+1.30000 #max period in days\n",
    "admax=(0.04634+0.00069)*1.496e+11 #max semi maj axis in meters\n",
    "\n",
    "tdmin=(3.072-0.003)/23.933 #max duration in days\n",
    "pdmin=3.52476-1.30000 #max period in days\n",
    "admin=(0.04634-0.00070)*1.496e+11 #max semi maj axis in meters\n",
    "\n",
    "\n",
    "#calculate max bound using largest possible values for ad and td and min pd\n",
    "\n",
    "\n",
    "Rpmax = (np.pi*((admax*tdmax)/pdmin))/Rj #max Radius of planet in meters\n",
    "print('The max radius of HD 209458 b is', Rpmax, 'Rj')\n",
    "\n",
    "#calculate min with smallest ad and td and largest pd\n",
    "\n",
    "Rpmin = (np.pi*((admin*tdmin)/pdmax))/Rj #min Radius of planet in meters\n",
    "print('The minimum radius of HD 209458 b is', Rpmin, 'Rj')"
   ]
  },
  {
   "cell_type": "code",
   "execution_count": 10,
   "metadata": {},
   "outputs": [
    {
     "name": "stdout",
     "output_type": "stream",
     "text": [
      "16.829957055186185 -6.725664980496298\n"
     ]
    }
   ],
   "source": [
    "#our error on the top bound is \n",
    "\n",
    "errorpos= Rpmax-Rp #top bound for error\n",
    "errormin= Rp-Rpmin #lower bound for error\n",
    "\n",
    "print( errorpos, errormin)"
   ]
  },
  {
   "cell_type": "markdown",
   "metadata": {},
   "source": [
    "### The radius of HD 209458 b is around 11.345+6.9144/-3.1899"
   ]
  },
  {
   "cell_type": "code",
   "execution_count": 11,
   "metadata": {},
   "outputs": [
    {
     "name": "stdout",
     "output_type": "stream",
     "text": [
      "percent error? (positive then negative) 117.77514574877429 -47.06584637964281\n"
     ]
    }
   ],
   "source": [
    "percerrorp=errorpos/Rp*10\n",
    "percerrorm=errormin/Rp*10\n",
    "\n",
    "print('percent error? (positive then negative)',percerrorp,percerrorm)"
   ]
  },
  {
   "cell_type": "markdown",
   "metadata": {},
   "source": [
    "# Calculate density from Radius and Mass"
   ]
  },
  {
   "cell_type": "code",
   "execution_count": 13,
   "metadata": {},
   "outputs": [
    {
     "name": "stdout",
     "output_type": "stream",
     "text": [
      "Volume= 4.1765071039185625e+24 Volmin= 7.761434795347497e+26 Volmax= 8.712692357142277e+27 in cubic meters\n",
      "The density of the planet is 318.42902269016633 in kg per cubic meter\n",
      "min density is 0.15264180357167265 max density is 1.7134989991238874 in kg per cubic meter\n"
     ]
    }
   ],
   "source": [
    "#density is mass/volume\n",
    "#volume of sphere is 4/3Pi Radius^3\n",
    "#here i am not accounting for error/uncertainty for mass calculations\n",
    "\n",
    "# use mass = min_mass from the RV method above\n",
    "#use rad = Rp from analytical transit calculations above\n",
    "#note both of these are in Mj and Rj respectively, so the denisty will be in density of Jup\n",
    "\n",
    "Rpm=Rp*Rj #radius in meters\n",
    "Rpmaxm= Rpmax*Rj\n",
    "Rpminm = Rpmin*Rj\n",
    "\n",
    "Vol = (4/3)*np.pi*(Rpm)**3     #vol in cubic meters\n",
    "Volmin = (4/3)*np.pi*(Rpminm)**3 #minimum vol\n",
    "Volmax = (4/3)*np.pi*(Rpmaxm)**3   #maximum vol\n",
    "\n",
    "print('Volume=', Vol, 'Volmin=', Volmin, 'Volmax=', Volmax, 'in cubic meters')\n",
    "\n",
    "Mj = 1.89813e+27 #mass of jupiter in kg https://solarsystem.nasa.gov/planets/jupiter/by-the-numbers/\n",
    "\n",
    "min_mass_kg = min_mass*Mj\n",
    "\n",
    "Dens = min_mass_kg/Vol #density in kg/m^3 \n",
    "\n",
    "print('The density of the planet is', Dens, 'in kg per cubic meter')\n",
    "\n",
    "Densmin = min_mass_kg/Volmax #min density kg per cubic meter\n",
    "Densmax = min_mass_kg/Volmin #max desnity kg per cubic meter\n",
    "\n",
    "print('min density is', Densmin, 'max density is', Densmax, 'in kg per cubic meter')\n",
    "\n",
    "#this appear to be very far off of the calculated values on NEA...could be our mass values?"
   ]
  },
  {
   "cell_type": "code",
   "execution_count": 14,
   "metadata": {},
   "outputs": [
    {
     "name": "stdout",
     "output_type": "stream",
     "text": [
      "error 318.27638088659467 -316.71552369104245\n"
     ]
    }
   ],
   "source": [
    "#error range: this is not accounting for RV, mass error\n",
    "\n",
    "errordmin = Dens-Densmin #lower error for density\n",
    "errordplus = Densmax-Dens #higher errror\n",
    "\n",
    "print('error', errordmin, errordplus)"
   ]
  },
  {
   "cell_type": "code",
   "execution_count": 15,
   "metadata": {},
   "outputs": [
    {
     "name": "stdout",
     "output_type": "stream",
     "text": [
      "The density is 318.42902269016633 + -316.71552369104245 /- 318.27638088659467 in kg/m^3\n"
     ]
    }
   ],
   "source": [
    "print('The density is', Dens, '+', errordplus, '/-', errordmin, 'in kg/m^3')"
   ]
  },
  {
   "cell_type": "markdown",
   "metadata": {},
   "source": [
    "## Density is around 0.6364+1.0771/-0.48377 kg/m^3"
   ]
  },
  {
   "cell_type": "code",
   "execution_count": 16,
   "metadata": {},
   "outputs": [
    {
     "name": "stdout",
     "output_type": "stream",
     "text": [
      "percent error 9.995206410449583 -9.946188981624607\n"
     ]
    }
   ],
   "source": [
    "#percent error\n",
    "\n",
    "percerrorm = errordmin/Dens*10 #percent error for min\n",
    "percerrorp = errordplus/Dens*10 #percent error for max\n",
    "\n",
    "print('percent error', percerrorm, percerrorp)"
   ]
  },
  {
   "cell_type": "code",
   "execution_count": 17,
   "metadata": {},
   "outputs": [],
   "source": [
    "from matplotlib import pyplot as plt\n",
    "import matplotlib \n",
    "import numpy as np"
   ]
  },
  {
   "cell_type": "markdown",
   "metadata": {},
   "source": [
    "### Uncertainty"
   ]
  },
  {
   "cell_type": "code",
   "execution_count": 18,
   "metadata": {},
   "outputs": [
    {
     "name": "stdout",
     "output_type": "stream",
     "text": [
      "The uncertainty of mass is 7.084779802663949e-05\n"
     ]
    }
   ],
   "source": [
    "Ks = 84.7\n",
    "σKs = 0.00826\n",
    "Ms = 1119.8544\n",
    "σMs = 0.0449\n",
    "Mp = min_mass\n",
    "\n",
    "σMp = (4/9 * (σMs/Ms)**2 + (σKs/Ks)**2)**(1/2) * Mp\n",
    "\n",
    "print('The uncertainty of mass is', σMp)"
   ]
  },
  {
   "cell_type": "code",
   "execution_count": 19,
   "metadata": {},
   "outputs": [
    {
     "name": "stdout",
     "output_type": "stream",
     "text": [
      "The uncertainty of the radius is 0.002217169262198656\n"
     ]
    }
   ],
   "source": [
    "#radius uncertainty\n",
    "σRs = 0.017\n",
    "σtd = 0.0016\n",
    "td = 1.50\n",
    "\n",
    "σRp = ((σRs/Rs)**2 + 1/4 * (σtd/td)**2)**(1/2) * Rp\n",
    "\n",
    "print('The uncertainty of the radius is', σRp)"
   ]
  },
  {
   "cell_type": "code",
   "execution_count": 20,
   "metadata": {},
   "outputs": [
    {
     "name": "stdout",
     "output_type": "stream",
     "text": [
      "The uncertainty of density is 0.039777586122677865\n"
     ]
    }
   ],
   "source": [
    "#mass uncertainty\n",
    "σMp = 0.0548\n",
    "Mp = min_mass\n",
    "p = 0.50768\n",
    "\n",
    "σp = ((σMp/Mp)**2 + 9 * (σRs/Rs)**2 + 9/4 * (σtd/td)**2)**(1/2) * p\n",
    "\n",
    "print('The uncertainty of density is', σp)"
   ]
  },
  {
   "cell_type": "markdown",
   "metadata": {},
   "source": [
    "### Comparison"
   ]
  },
  {
   "cell_type": "code",
   "execution_count": 25,
   "metadata": {},
   "outputs": [
    {
     "data": {
      "image/png": "[encoded data removed]",
      "text/plain": [
       "<Figure size 432x288 with 1 Axes>"
      ]
     },
     "metadata": {},
     "output_type": "display_data"
    }
   ],
   "source": [
    "x1 = 0.700648045897449\n",
    "y1 = Rp\n",
    "d1 = 0.50768\n",
    "\n",
    "#Similar exoplanets\n",
    "x = [ 0.86, 0.72, 0.71, 0.75, 0.76, 0.69, 0.68, 0.67, 0.66, 0.65, 0.54, 0.63, 0.62, 0.60, 0.8, 0.82, 0.84]\n",
    "     #Jupiter masses\n",
    "y = [ 1.24, 1.19, 1.35, 1.08, 0.944, 1.35, 1.25, 1.49, 0.96, 1.017, 1.27, 1.57, 1.25, 1.08, 0.72, 1.24, 0.94]\n",
    "     #Rj\n",
    "\n",
    "\n",
    "pi = 3.14\n",
    "d = [ m / (4/ (3 * pi * r**3)) for m, r in zip(x, y) ]\n",
    "\n",
    "plt.style.use('dark_background')\n",
    "plt.figure(facecolor='#212121') \n",
    "ax = plt.axes()\n",
    "ax.set_facecolor(\"#212121\")\n",
    "plt.plot(x1, y1, '*', markersize = 10, color = 'salmon')\n",
    "plt.plot(x, y, '.', markersize = 10, color = 'dodgerblue')\n",
    "plt.xlabel('Mass [$M_J$]')\n",
    "plt.ylabel('Radius [$R_J$]')\n",
    "plt.savefig('polulation.png', dpi=300)"
   ]
  },
  {
   "cell_type": "code",
   "execution_count": 26,
   "metadata": {},
   "outputs": [
    {
     "data": {
      "image/png": "[encoded data removed]",
      "text/plain": [
       "<Figure size 432x288 with 1 Axes>"
      ]
     },
     "metadata": {},
     "output_type": "display_data"
    }
   ],
   "source": [
    "plt.figure(facecolor='#212121') \n",
    "ax = plt.axes()\n",
    "ax.set_facecolor(\"#212121\")\n",
    "plt.plot(x1, d1, '*', markersize = 10, color = 'salmon')\n",
    "plt.plot(x, d, '.', markersize = 10, color = 'dodgerblue')\n",
    "plt.ylim(0, 6)\n",
    "plt.xlabel('Mass [$M_J$]')\n",
    "plt.ylabel('Density [$M_J / R_J^{3}$]')\n",
    "plt.savefig('polulation2.png', dpi=300)"
   ]
  },
  {
   "cell_type": "code",
   "execution_count": null,
   "metadata": {},
   "outputs": [],
   "source": []
  }
 ],
 "metadata": {
  "kernelspec": {
   "display_name": "Python 3.8 (py38)",
   "language": "python",
   "name": "py38"
  },
  "language_info": {
   "codemirror_mode": {
    "name": "ipython",
    "version": 3
   },
   "file_extension": ".py",
   "mimetype": "text/x-python",
   "name": "python",
   "nbconvert_exporter": "python",
   "pygments_lexer": "ipython3",
   "version": "3.8.5"
  }
 },
 "nbformat": 4,
 "nbformat_minor": 5
}
